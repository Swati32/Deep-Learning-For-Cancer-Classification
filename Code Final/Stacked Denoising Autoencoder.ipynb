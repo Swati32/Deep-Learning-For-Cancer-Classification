{
 "cells": [
  {
   "cell_type": "code",
   "execution_count": 1,
   "metadata": {
    "collapsed": false
   },
   "outputs": [
    {
     "name": "stderr",
     "output_type": "stream",
     "text": [
      "/home/swati/anaconda3/lib/python3.5/site-packages/sklearn/cross_validation.py:44: DeprecationWarning: This module was deprecated in version 0.18 in favor of the model_selection module into which all the refactored classes and functions are moved. Also note that the interface of the new CV iterators are different from that of this module. This module will be removed in 0.20.\n",
      "  \"This module will be removed in 0.20.\", DeprecationWarning)\n"
     ]
    }
   ],
   "source": [
    "from sklearn.metrics import accuracy_score\n",
    "from sklearn.metrics import classification_report\n",
    "import os\n",
    "\n",
    "from sklearn.datasets import fetch_mldata\n",
    "from sklearn.cross_validation import train_test_split\n",
    "\n",
    "from DenoisingAutoencoder import DenoisingAutoencoder\n",
    "from StackedDenoisingAutoencoders import StackedDenoisingAutoencoders\n",
    "from sklearn.metrics import accuracy_score\n",
    "from sklearn.metrics import classification_report\n",
    "import warnings\n",
    "from sklearn import preprocessing\n",
    "from sklearn.pipeline import Pipeline\n",
    "from sklearn.model_selection import GridSearchCV\n",
    "warnings.filterwarnings('ignore')\n",
    "\n",
    "\n",
    "from sklearn import linear_model\n",
    "import numpy as np\n",
    "import pandas as pd"
   ]
  },
  {
   "cell_type": "code",
   "execution_count": 2,
   "metadata": {
    "collapsed": false
   },
   "outputs": [],
   "source": [
    "data = pd.read_csv(\"final_dataset.csv\")"
   ]
  },
  {
   "cell_type": "code",
   "execution_count": 3,
   "metadata": {
    "collapsed": false,
    "scrolled": true
   },
   "outputs": [
    {
     "data": {
      "text/html": [
       "<div>\n",
       "<table border=\"1\" class=\"dataframe\">\n",
       "  <thead>\n",
       "    <tr style=\"text-align: right;\">\n",
       "      <th></th>\n",
       "      <th>EIF4EBP1|4E-BP1</th>\n",
       "      <th>EIF4EBP1|4E-BP1_pS65</th>\n",
       "      <th>EIF4EBP1|4E-BP1_pT37_T46</th>\n",
       "      <th>TP53BP1|53BP1</th>\n",
       "      <th>ACACA ACACB|ACC_pS79</th>\n",
       "      <th>ACACA|ACC1</th>\n",
       "      <th>AKT1 AKT2 AKT3|Akt</th>\n",
       "      <th>AKT1 AKT2 AKT3|Akt_pS473</th>\n",
       "      <th>AKT1 AKT2 AKT3|Akt_pT308</th>\n",
       "      <th>PRKAA1|AMPK_alpha</th>\n",
       "      <th>...</th>\n",
       "      <th>RAB39B_y</th>\n",
       "      <th>SMIM9</th>\n",
       "      <th>SNORA36A_y</th>\n",
       "      <th>SNORA56_y</th>\n",
       "      <th>TMLHE_y</th>\n",
       "      <th>VBP1_y</th>\n",
       "      <th>IL9R|ENSG00000124334.12</th>\n",
       "      <th>SPRY3|ENSG00000168939.6</th>\n",
       "      <th>VAMP7|ENSG00000124333.10</th>\n",
       "      <th>WASH6P|ENSG00000182484.10</th>\n",
       "    </tr>\n",
       "  </thead>\n",
       "  <tbody>\n",
       "    <tr>\n",
       "      <th>0</th>\n",
       "      <td>-0.077594</td>\n",
       "      <td>-0.003019</td>\n",
       "      <td>0.165859</td>\n",
       "      <td>-0.100109</td>\n",
       "      <td>-0.127834</td>\n",
       "      <td>-0.189998</td>\n",
       "      <td>0.090328</td>\n",
       "      <td>0.046255</td>\n",
       "      <td>-0.043611</td>\n",
       "      <td>-0.006696</td>\n",
       "      <td>...</td>\n",
       "      <td>0.013852</td>\n",
       "      <td>0.013852</td>\n",
       "      <td>0.013852</td>\n",
       "      <td>0.013852</td>\n",
       "      <td>0.013852</td>\n",
       "      <td>0.013852</td>\n",
       "      <td>0.006926</td>\n",
       "      <td>0.006926</td>\n",
       "      <td>0.006926</td>\n",
       "      <td>0.006926</td>\n",
       "    </tr>\n",
       "    <tr>\n",
       "      <th>1</th>\n",
       "      <td>0.110617</td>\n",
       "      <td>-0.082640</td>\n",
       "      <td>-0.072790</td>\n",
       "      <td>-0.059372</td>\n",
       "      <td>-0.021542</td>\n",
       "      <td>-0.074815</td>\n",
       "      <td>-0.096863</td>\n",
       "      <td>-0.173360</td>\n",
       "      <td>-0.150273</td>\n",
       "      <td>-0.099548</td>\n",
       "      <td>...</td>\n",
       "      <td>-0.007007</td>\n",
       "      <td>-0.007007</td>\n",
       "      <td>-0.007007</td>\n",
       "      <td>-0.007007</td>\n",
       "      <td>-0.007007</td>\n",
       "      <td>-0.007007</td>\n",
       "      <td>-0.007007</td>\n",
       "      <td>-0.007007</td>\n",
       "      <td>-0.007007</td>\n",
       "      <td>-0.007007</td>\n",
       "    </tr>\n",
       "    <tr>\n",
       "      <th>2</th>\n",
       "      <td>-0.011700</td>\n",
       "      <td>-0.113666</td>\n",
       "      <td>-0.128160</td>\n",
       "      <td>-0.033070</td>\n",
       "      <td>0.024458</td>\n",
       "      <td>-0.004357</td>\n",
       "      <td>0.019383</td>\n",
       "      <td>-0.040825</td>\n",
       "      <td>-0.063534</td>\n",
       "      <td>0.004473</td>\n",
       "      <td>...</td>\n",
       "      <td>0.000000</td>\n",
       "      <td>0.000000</td>\n",
       "      <td>0.000000</td>\n",
       "      <td>0.000000</td>\n",
       "      <td>0.000000</td>\n",
       "      <td>0.000000</td>\n",
       "      <td>0.000000</td>\n",
       "      <td>0.000000</td>\n",
       "      <td>0.000000</td>\n",
       "      <td>0.000000</td>\n",
       "    </tr>\n",
       "    <tr>\n",
       "      <th>3</th>\n",
       "      <td>0.016618</td>\n",
       "      <td>-0.078814</td>\n",
       "      <td>-0.066466</td>\n",
       "      <td>-0.026547</td>\n",
       "      <td>0.014739</td>\n",
       "      <td>-0.002541</td>\n",
       "      <td>0.014318</td>\n",
       "      <td>-0.014206</td>\n",
       "      <td>-0.051039</td>\n",
       "      <td>-0.008622</td>\n",
       "      <td>...</td>\n",
       "      <td>-0.009741</td>\n",
       "      <td>-0.009741</td>\n",
       "      <td>-0.009741</td>\n",
       "      <td>-0.009741</td>\n",
       "      <td>-0.009741</td>\n",
       "      <td>-0.009741</td>\n",
       "      <td>-0.009741</td>\n",
       "      <td>-0.009741</td>\n",
       "      <td>-0.009741</td>\n",
       "      <td>-0.009741</td>\n",
       "    </tr>\n",
       "    <tr>\n",
       "      <th>4</th>\n",
       "      <td>-0.036731</td>\n",
       "      <td>-0.105771</td>\n",
       "      <td>-0.195421</td>\n",
       "      <td>0.016612</td>\n",
       "      <td>0.009861</td>\n",
       "      <td>0.050568</td>\n",
       "      <td>0.033091</td>\n",
       "      <td>-0.148442</td>\n",
       "      <td>-0.109946</td>\n",
       "      <td>-0.018310</td>\n",
       "      <td>...</td>\n",
       "      <td>0.000000</td>\n",
       "      <td>0.000000</td>\n",
       "      <td>0.000000</td>\n",
       "      <td>0.000000</td>\n",
       "      <td>0.000000</td>\n",
       "      <td>0.000000</td>\n",
       "      <td>0.000000</td>\n",
       "      <td>0.000000</td>\n",
       "      <td>0.000000</td>\n",
       "      <td>0.000000</td>\n",
       "    </tr>\n",
       "  </tbody>\n",
       "</table>\n",
       "<p>5 rows × 45425 columns</p>\n",
       "</div>"
      ],
      "text/plain": [
       "   EIF4EBP1|4E-BP1  EIF4EBP1|4E-BP1_pS65  EIF4EBP1|4E-BP1_pT37_T46  \\\n",
       "0        -0.077594             -0.003019                  0.165859   \n",
       "1         0.110617             -0.082640                 -0.072790   \n",
       "2        -0.011700             -0.113666                 -0.128160   \n",
       "3         0.016618             -0.078814                 -0.066466   \n",
       "4        -0.036731             -0.105771                 -0.195421   \n",
       "\n",
       "   TP53BP1|53BP1  ACACA ACACB|ACC_pS79  ACACA|ACC1  AKT1 AKT2 AKT3|Akt  \\\n",
       "0      -0.100109             -0.127834   -0.189998            0.090328   \n",
       "1      -0.059372             -0.021542   -0.074815           -0.096863   \n",
       "2      -0.033070              0.024458   -0.004357            0.019383   \n",
       "3      -0.026547              0.014739   -0.002541            0.014318   \n",
       "4       0.016612              0.009861    0.050568            0.033091   \n",
       "\n",
       "   AKT1 AKT2 AKT3|Akt_pS473  AKT1 AKT2 AKT3|Akt_pT308  PRKAA1|AMPK_alpha  \\\n",
       "0                  0.046255                 -0.043611          -0.006696   \n",
       "1                 -0.173360                 -0.150273          -0.099548   \n",
       "2                 -0.040825                 -0.063534           0.004473   \n",
       "3                 -0.014206                 -0.051039          -0.008622   \n",
       "4                 -0.148442                 -0.109946          -0.018310   \n",
       "\n",
       "             ...              RAB39B_y     SMIM9  SNORA36A_y  SNORA56_y  \\\n",
       "0            ...              0.013852  0.013852    0.013852   0.013852   \n",
       "1            ...             -0.007007 -0.007007   -0.007007  -0.007007   \n",
       "2            ...              0.000000  0.000000    0.000000   0.000000   \n",
       "3            ...             -0.009741 -0.009741   -0.009741  -0.009741   \n",
       "4            ...              0.000000  0.000000    0.000000   0.000000   \n",
       "\n",
       "    TMLHE_y    VBP1_y  IL9R|ENSG00000124334.12  SPRY3|ENSG00000168939.6  \\\n",
       "0  0.013852  0.013852                 0.006926                 0.006926   \n",
       "1 -0.007007 -0.007007                -0.007007                -0.007007   \n",
       "2  0.000000  0.000000                 0.000000                 0.000000   \n",
       "3 -0.009741 -0.009741                -0.009741                -0.009741   \n",
       "4  0.000000  0.000000                 0.000000                 0.000000   \n",
       "\n",
       "   VAMP7|ENSG00000124333.10  WASH6P|ENSG00000182484.10  \n",
       "0                  0.006926                   0.006926  \n",
       "1                 -0.007007                  -0.007007  \n",
       "2                  0.000000                   0.000000  \n",
       "3                 -0.009741                  -0.009741  \n",
       "4                  0.000000                   0.000000  \n",
       "\n",
       "[5 rows x 45425 columns]"
      ]
     },
     "execution_count": 3,
     "metadata": {},
     "output_type": "execute_result"
    }
   ],
   "source": [
    "data.head()"
   ]
  },
  {
   "cell_type": "code",
   "execution_count": 4,
   "metadata": {
    "collapsed": true
   },
   "outputs": [],
   "source": [
    "patient = data['PatientID']"
   ]
  },
  {
   "cell_type": "code",
   "execution_count": 5,
   "metadata": {
    "collapsed": false
   },
   "outputs": [],
   "source": [
    "y = data['Cancer_Type']\n",
    "X = data.drop(['Cancer_Type','PatientID'],axis=1)\n"
   ]
  },
  {
   "cell_type": "code",
   "execution_count": 6,
   "metadata": {
    "collapsed": true
   },
   "outputs": [],
   "source": [
    "X_train, X_test, y_train, y_test = train_test_split(X, y, test_size=0.25, random_state=42)"
   ]
  },
  {
   "cell_type": "code",
   "execution_count": 7,
   "metadata": {
    "collapsed": false
   },
   "outputs": [
    {
     "data": {
      "text/plain": [
       "LabelEncoder()"
      ]
     },
     "execution_count": 7,
     "metadata": {},
     "output_type": "execute_result"
    }
   ],
   "source": [
    "le = preprocessing.LabelEncoder()\n",
    "le.fit(y_train) "
   ]
  },
  {
   "cell_type": "code",
   "execution_count": 8,
   "metadata": {
    "collapsed": false
   },
   "outputs": [],
   "source": [
    "y_train = pd.DataFrame(le.transform(y_train))"
   ]
  },
  {
   "cell_type": "code",
   "execution_count": null,
   "metadata": {
    "collapsed": true
   },
   "outputs": [],
   "source": [
    "y_test = pd.DataFrame(le.transform(y_test))"
   ]
  },
  {
   "cell_type": "code",
   "execution_count": 31,
   "metadata": {
    "collapsed": false
   },
   "outputs": [
    {
     "name": "stdout",
     "output_type": "stream",
     "text": [
      "Training epoch 0, cost  nan\n",
      "Training epoch 1, cost  nan\n",
      "Training epoch 2, cost  nan\n",
      "Training epoch 3, cost  nan\n",
      "Training epoch 4, cost  nan\n",
      "Training epoch 5, cost  nan\n",
      "Training epoch 6, cost  nan\n",
      "Training epoch 7, cost  nan\n",
      "Training epoch 8, cost  nan\n",
      "Training epoch 9, cost  nan\n",
      "Training epoch 10, cost  nan\n",
      "Training epoch 11, cost  nan\n",
      "Training epoch 12, cost  nan\n",
      "Training epoch 13, cost  nan\n",
      "Training epoch 14, cost  nan\n",
      "Training epoch 15, cost  nan\n",
      "Training epoch 16, cost  nan\n",
      "Training epoch 17, cost  nan\n",
      "Training epoch 18, cost  nan\n",
      "Training epoch 19, cost  nan\n",
      "Training epoch 20, cost  nan\n",
      "Training epoch 21, cost  nan\n",
      "Training epoch 22, cost  nan\n",
      "Training epoch 23, cost  nan\n",
      "Training epoch 24, cost  nan\n",
      "Training epoch 25, cost  nan\n",
      "Training epoch 26, cost  nan\n",
      "Training epoch 27, cost  nan\n",
      "Training epoch 28, cost  nan\n",
      "Training epoch 29, cost  nan\n",
      "Training epoch 30, cost  nan\n",
      "Training epoch 31, cost  nan\n",
      "Training epoch 32, cost  nan\n",
      "Training epoch 33, cost  nan\n",
      "Training epoch 34, cost  nan\n",
      "Training epoch 35, cost  nan\n",
      "Training epoch 36, cost  nan\n",
      "Training epoch 37, cost  nan\n",
      "Training epoch 38, cost  nan\n",
      "Training epoch 39, cost  nan\n",
      "Training epoch 40, cost  nan\n",
      "Training epoch 41, cost  nan\n",
      "Training epoch 42, cost  nan\n",
      "Training epoch 43, cost  nan\n",
      "Training epoch 44, cost  nan\n",
      "Training epoch 45, cost  nan\n",
      "Training epoch 46, cost  nan\n",
      "Training epoch 47, cost  nan\n",
      "Training epoch 48, cost  nan\n",
      "Training epoch 49, cost  nan\n"
     ]
    },
    {
     "name": "stderr",
     "output_type": "stream",
     "text": [
      "The 50% corruption code  ran for 5.07m\n"
     ]
    },
    {
     "name": "stdout",
     "output_type": "stream",
     "text": [
      "Training epoch 0, cost  nan\n",
      "Training epoch 1, cost  nan\n",
      "Training epoch 2, cost  nan\n",
      "Training epoch 3, cost  nan\n",
      "Training epoch 4, cost  nan\n",
      "Training epoch 5, cost  nan\n",
      "Training epoch 6, cost  nan\n",
      "Training epoch 7, cost  nan\n",
      "Training epoch 8, cost  nan\n",
      "Training epoch 9, cost  nan\n",
      "Training epoch 10, cost  nan\n",
      "Training epoch 11, cost  nan\n",
      "Training epoch 12, cost  nan\n",
      "Training epoch 13, cost  nan\n",
      "Training epoch 14, cost  nan\n",
      "Training epoch 15, cost  nan\n",
      "Training epoch 16, cost  nan\n",
      "Training epoch 17, cost  nan\n",
      "Training epoch 18, cost  nan\n",
      "Training epoch 19, cost  nan\n",
      "Training epoch 20, cost  nan\n",
      "Training epoch 21, cost  nan\n",
      "Training epoch 22, cost  nan\n",
      "Training epoch 23, cost  nan\n",
      "Training epoch 24, cost  nan\n",
      "Training epoch 25, cost  nan\n",
      "Training epoch 26, cost  nan\n",
      "Training epoch 27, cost  nan\n",
      "Training epoch 28, cost  nan\n",
      "Training epoch 29, cost  nan\n",
      "Training epoch 30, cost  nan\n",
      "Training epoch 31, cost  nan\n",
      "Training epoch 32, cost  nan\n",
      "Training epoch 33, cost  nan\n",
      "Training epoch 34, cost  nan\n",
      "Training epoch 35, cost  nan\n",
      "Training epoch 36, cost  nan\n",
      "Training epoch 37, cost  nan\n",
      "Training epoch 38, cost  nan\n",
      "Training epoch 39, cost  nan\n",
      "Training epoch 40, cost  nan\n",
      "Training epoch 41, cost  nan\n",
      "Training epoch 42, cost  nan\n",
      "Training epoch 43, cost  nan\n",
      "Training epoch 44, cost  nan\n",
      "Training epoch 45, cost  nan\n",
      "Training epoch 46, cost  nan\n",
      "Training epoch 47, cost  nan\n",
      "Training epoch 48, cost  nan\n",
      "Training epoch 49, cost  nan\n"
     ]
    },
    {
     "name": "stderr",
     "output_type": "stream",
     "text": [
      "The 50% corruption code  ran for 0.03m\n"
     ]
    },
    {
     "name": "stdout",
     "output_type": "stream",
     "text": [
      "Training epoch 0, cost  nan\n",
      "Training epoch 1, cost  nan\n",
      "Training epoch 2, cost  nan\n",
      "Training epoch 3, cost  nan\n",
      "Training epoch 4, cost  nan\n",
      "Training epoch 5, cost  nan\n",
      "Training epoch 6, cost  nan\n",
      "Training epoch 7, cost  nan\n",
      "Training epoch 8, cost  nan\n",
      "Training epoch 9, cost  nan\n",
      "Training epoch 10, cost  nan\n",
      "Training epoch 11, cost  nan\n",
      "Training epoch 12, cost  nan\n",
      "Training epoch 13, cost  nan\n",
      "Training epoch 14, cost  nan\n",
      "Training epoch 15, cost  nan\n",
      "Training epoch 16, cost  nan\n",
      "Training epoch 17, cost  nan\n",
      "Training epoch 18, cost  nan\n",
      "Training epoch 19, cost  nan\n",
      "Training epoch 20, cost  nan\n",
      "Training epoch 21, cost  nan\n",
      "Training epoch 22, cost  nan\n",
      "Training epoch 23, cost  nan\n",
      "Training epoch 24, cost  nan\n",
      "Training epoch 25, cost  nan\n",
      "Training epoch 26, cost  nan\n",
      "Training epoch 27, cost  nan\n",
      "Training epoch 28, cost  nan\n",
      "Training epoch 29, cost  nan\n",
      "Training epoch 30, cost  nan\n",
      "Training epoch 31, cost  nan\n",
      "Training epoch 32, cost  nan\n",
      "Training epoch 33, cost  nan\n",
      "Training epoch 34, cost  nan\n",
      "Training epoch 35, cost  nan\n",
      "Training epoch 36, cost  nan\n",
      "Training epoch 37, cost  nan\n",
      "Training epoch 38, cost  nan\n",
      "Training epoch 39, cost  nan\n",
      "Training epoch 40, cost  nan\n",
      "Training epoch 41, cost  nan\n",
      "Training epoch 42, cost  nan\n",
      "Training epoch 43, cost  nan\n",
      "Training epoch 44, cost  nan\n",
      "Training epoch 45, cost  nan\n",
      "Training epoch 46, cost  nan\n",
      "Training epoch 47, cost  nan\n",
      "Training epoch 48, cost  nan\n",
      "Training epoch 49, cost  nan\n",
      "The 50% corruption code  ran for 5.16m\n"
     ]
    },
    {
     "name": "stderr",
     "output_type": "stream",
     "text": [
      "The 50% corruption code  ran for 0.03m\n"
     ]
    }
   ],
   "source": [
    "stacked_ae = StackedDenoisingAutoencoders(hidden_layers_sizes=[1000, 1000,1000],corruption_level=0.5, verbose=True, training_epochs=100)\n",
    "stacked_ae.fit(X_train)"
   ]
  },
  {
   "cell_type": "code",
   "execution_count": 32,
   "metadata": {
    "collapsed": false
   },
   "outputs": [],
   "source": [
    "clf = linear_model.LogisticRegression()"
   ]
  },
  {
   "cell_type": "code",
   "execution_count": 33,
   "metadata": {
    "collapsed": true
   },
   "outputs": [],
   "source": [
    "X_train_latent = stacked_ae.transform_latent_representation(X_train)\n",
    "X_test_latent = stacked_ae.transform_latent_representation(X_test)\n"
   ]
  },
  {
   "cell_type": "code",
   "execution_count": 34,
   "metadata": {
    "collapsed": false
   },
   "outputs": [
    {
     "name": "stdout",
     "output_type": "stream",
     "text": [
      "Accuracy = 46.666666666666664 %\n",
      "Classification Report \n",
      "              precision    recall  f1-score   support\n",
      "\n",
      "          0       0.47      1.00      0.64        35\n",
      "          1       0.00      0.00      0.00        15\n",
      "          2       0.00      0.00      0.00        25\n",
      "          3       0.00      0.00      0.00         0\n",
      "          4       0.00      0.00      0.00         0\n",
      "          5       0.00      0.00      0.00         0\n",
      "          6       0.00      0.00      0.00         0\n",
      "          7       0.00      0.00      0.00         0\n",
      "          8       0.00      0.00      0.00         0\n",
      "          9       0.00      0.00      0.00         0\n",
      "\n",
      "avg / total       0.22      0.47      0.30        75\n",
      "\n"
     ]
    }
   ],
   "source": [
    "# Fit the model\n",
    "clf.fit(X_train_latent, y_train)\n",
    "\n",
    "# Perform the predictions\n",
    "y_predicted = clf.predict(X_test_latent)\n",
    "\n",
    "\n",
    "from sklearn.metrics import accuracy_score\n",
    "print (\"Accuracy = {} %\".format(accuracy_score(y_test, y_predicted)*100))\n",
    "\n",
    "from sklearn.metrics import classification_report\n",
    "print (\"Classification Report \\n {}\".format(classification_report(y_test, y_predicted, labels=range(0,10))))"
   ]
  },
  {
   "cell_type": "code",
   "execution_count": null,
   "metadata": {
    "collapsed": true
   },
   "outputs": [],
   "source": []
  },
  {
   "cell_type": "code",
   "execution_count": null,
   "metadata": {
    "collapsed": true
   },
   "outputs": [],
   "source": []
  }
 ],
 "metadata": {
  "anaconda-cloud": {},
  "kernelspec": {
   "display_name": "Python [conda root]",
   "language": "python",
   "name": "conda-root-py"
  },
  "language_info": {
   "codemirror_mode": {
    "name": "ipython",
    "version": 2
   },
   "file_extension": ".py",
   "mimetype": "text/x-python",
   "name": "python",
   "nbconvert_exporter": "python",
   "pygments_lexer": "ipython2",
   "version": "2.7.12"
  }
 },
 "nbformat": 4,
 "nbformat_minor": 0
}
