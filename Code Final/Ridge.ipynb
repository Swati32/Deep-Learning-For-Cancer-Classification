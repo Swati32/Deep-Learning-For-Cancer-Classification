{
 "cells": [
  {
   "cell_type": "markdown",
   "metadata": {
    "collapsed": true
   },
   "source": [
    "### Import Packages"
   ]
  },
  {
   "cell_type": "code",
   "execution_count": 2,
   "metadata": {
    "collapsed": false
   },
   "outputs": [],
   "source": [
    "import utils \n",
    "from SDA_layers import StackedDA \n",
    "import os\n",
    "from sklearn.cross_validation import train_test_split\n",
    "from sklearn import preprocessing\n",
    "from sklearn import linear_model\n",
    "import numpy as np\n",
    "import pandas as pd\n",
    "from sklearn import linear_model\n",
    "from sklearn.metrics import accuracy_score\n",
    "from sklearn.linear_model import Ridge"
   ]
  },
  {
   "cell_type": "markdown",
   "metadata": {},
   "source": [
    "### Import Dataset"
   ]
  },
  {
   "cell_type": "code",
   "execution_count": 3,
   "metadata": {
    "collapsed": true
   },
   "outputs": [],
   "source": [
    "data = pd.read_csv(\"final_dataset.csv\")\n",
    "patient = data['PatientID']\n",
    "y = data['Cancer_Type']\n",
    "X = data.drop(['Cancer_Type','PatientID'],axis=1)\n",
    "\n"
   ]
  },
  {
   "cell_type": "markdown",
   "metadata": {},
   "source": [
    "### Test Train Split"
   ]
  },
  {
   "cell_type": "code",
   "execution_count": 4,
   "metadata": {
    "collapsed": true
   },
   "outputs": [],
   "source": [
    "X = data.drop(['Cancer_Type','PatientID'],axis=1)\n",
    "X_train, X_test, y_train, y_test = train_test_split(X, y, test_size=0.10, random_state=42)\n",
    "X_train, X_val, y_train, y_val = train_test_split(X_train, y_train, test_size=0.10, random_state=42)\n",
    "le = preprocessing.LabelEncoder()\n",
    "le.fit(y_train) \n",
    "y_train = pd.DataFrame(le.transform(y_train))\n",
    "y_val = pd.DataFrame(le.transform(y_val))\n",
    "y_test = pd.DataFrame(le.transform(y_test))\n"
   ]
  },
  {
   "cell_type": "markdown",
   "metadata": {},
   "source": [
    "### Validation to determine alpha"
   ]
  },
  {
   "cell_type": "code",
   "execution_count": 5,
   "metadata": {
    "collapsed": false
   },
   "outputs": [
    {
     "data": {
      "text/plain": [
       "array([ 0.0001    ,  0.00021544,  0.00046416,  0.001     ,  0.00215443,\n",
       "        0.00464159,  0.01      ,  0.02154435,  0.04641589,  0.1       ])"
      ]
     },
     "execution_count": 5,
     "metadata": {},
     "output_type": "execute_result"
    }
   ],
   "source": [
    "regr = linear_model.Ridge(max_iter=10000)\n",
    "alphas = np.logspace(-4, -1, 10)\n",
    "alphas"
   ]
  },
  {
   "cell_type": "code",
   "execution_count": 7,
   "metadata": {
    "collapsed": false
   },
   "outputs": [],
   "source": [
    "scores = [regr.set_params(alpha=alpha).fit(X_train, y_train).score(X_val, y_val) for alpha in alphas]\n",
    "best_alpha = alphas[scores.index(max(scores))]\n"
   ]
  },
  {
   "cell_type": "code",
   "execution_count": 8,
   "metadata": {
    "collapsed": false
   },
   "outputs": [
    {
     "data": {
      "text/plain": [
       "[0.91260087912782206,\n",
       " 0.9130759043612009,\n",
       " 0.91403180846601451,\n",
       " 0.91583255397762975,\n",
       " 0.91886576671663167,\n",
       " 0.92319766610472609,\n",
       " 0.92820658587487181,\n",
       " 0.93276232710486107,\n",
       " 0.93599554017474873,\n",
       " 0.93774584208296141]"
      ]
     },
     "execution_count": 8,
     "metadata": {},
     "output_type": "execute_result"
    }
   ],
   "source": [
    "scores"
   ]
  },
  {
   "cell_type": "code",
   "execution_count": 9,
   "metadata": {
    "collapsed": false
   },
   "outputs": [
    {
     "data": {
      "text/plain": [
       "0.10000000000000001"
      ]
     },
     "execution_count": 9,
     "metadata": {},
     "output_type": "execute_result"
    }
   ],
   "source": [
    "best_alpha"
   ]
  },
  {
   "cell_type": "markdown",
   "metadata": {},
   "source": [
    "### Testing"
   ]
  },
  {
   "cell_type": "code",
   "execution_count": 10,
   "metadata": {
    "collapsed": false
   },
   "outputs": [
    {
     "name": "stdout",
     "output_type": "stream",
     "text": [
      "0.471849865952\n"
     ]
    }
   ],
   "source": [
    "regr = linear_model.Ridge(alpha=best_alpha, max_iter=10000)\n",
    "model = regr.fit(X_train,y_train)\n",
    "prediction = model.predict(X_test)\n",
    "y = y_test[0].as_matrix()\n",
    "print(accuracy_score(y,prediction.astype(int)))\n"
   ]
  },
  {
   "cell_type": "code",
   "execution_count": 11,
   "metadata": {
    "collapsed": false
   },
   "outputs": [
    {
     "name": "stdout",
     "output_type": "stream",
     "text": [
      "Classification Report \n",
      "              precision    recall  f1-score   support\n",
      "\n",
      "          0       0.46      1.00      0.63        36\n",
      "          1       0.78      0.40      0.53        80\n",
      "          2       0.65      0.59      0.62        29\n",
      "          3       0.05      0.17      0.07         6\n",
      "          4       0.37      0.47      0.41        32\n",
      "          5       0.42      0.49      0.45        45\n",
      "          6       0.51      0.52      0.51        52\n",
      "          7       0.25      0.12      0.17        32\n",
      "          8       0.26      0.33      0.29        21\n",
      "          9       1.00      0.38      0.55        40\n",
      "         10       0.00      0.00      0.00         0\n",
      "\n",
      "avg / total       0.56      0.47      0.47       373\n",
      "\n"
     ]
    },
    {
     "name": "stderr",
     "output_type": "stream",
     "text": [
      "C:\\Users\\Swati\\AppData\\Local\\Continuum\\Anaconda2\\lib\\site-packages\\sklearn\\metrics\\classification.py:1076: UndefinedMetricWarning: Recall and F-score are ill-defined and being set to 0.0 in labels with no true samples.\n",
      "  'recall', 'true', average, warn_for)\n"
     ]
    }
   ],
   "source": [
    "from sklearn.metrics import classification_report\n",
    "print (\"Classification Report \\n {}\".format(classification_report(y, prediction.astype(int))))"
   ]
  },
  {
   "cell_type": "code",
   "execution_count": null,
   "metadata": {
    "collapsed": true
   },
   "outputs": [],
   "source": []
  }
 ],
 "metadata": {
  "anaconda-cloud": {},
  "kernelspec": {
   "display_name": "Python [conda root]",
   "language": "python",
   "name": "conda-root-py"
  },
  "language_info": {
   "codemirror_mode": {
    "name": "ipython",
    "version": 2
   },
   "file_extension": ".py",
   "mimetype": "text/x-python",
   "name": "python",
   "nbconvert_exporter": "python",
   "pygments_lexer": "ipython2",
   "version": "2.7.12"
  }
 },
 "nbformat": 4,
 "nbformat_minor": 1
}
